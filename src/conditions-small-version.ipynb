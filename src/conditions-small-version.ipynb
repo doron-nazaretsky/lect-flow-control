{
 "cells": [
  {
   "cell_type": "markdown",
   "metadata": {},
   "source": [
    "# Conditions"
   ]
  },
  {
   "cell_type": "markdown",
   "metadata": {},
   "source": [
    "To understand better our material, let's imagine we are a data analyst at the IDF Intelligence and we are on a mission to find hostile weapons"
   ]
  },
  {
   "cell_type": "markdown",
   "metadata": {},
   "source": [
    "### IF"
   ]
  },
  {
   "cell_type": "markdown",
   "metadata": {},
   "source": [
    "#### Single IF\n",
    "We want to understand if a certain place is an enemy base. \\\n",
    "Let's say any place that has more than 5 geographic footprints of enemy soldiers is considered to be an enemy base."
   ]
  },
  {
   "cell_type": "code",
   "execution_count": 1,
   "metadata": {},
   "outputs": [],
   "source": [
    "def sum_enemy_gps_fp():\n",
    "    return int(input(\"How much enemy GPS footprints have we seen here?\"))"
   ]
  },
  {
   "cell_type": "code",
   "execution_count": 2,
   "metadata": {},
   "outputs": [],
   "source": [
    "num_of_fp = sum_enemy_gps_fp()\n",
    "if num_of_fp > 5:\n",
    "    print(\"That's an enemy base, get the missiles ready!\")"
   ]
  },
  {
   "cell_type": "markdown",
   "metadata": {},
   "source": [
    "#### Multiple IFs\n",
    "Also, we have to monitor the number of enemy tanks at the border, more than 20 is a threat that should be noticed."
   ]
  },
  {
   "cell_type": "code",
   "execution_count": null,
   "metadata": {},
   "outputs": [],
   "source": [
    "def sum_enemy_tanks_on_border():\n",
    "    return int(input(\"How many enemy tanks have we seen on the border?\"))"
   ]
  },
  {
   "cell_type": "code",
   "execution_count": null,
   "metadata": {},
   "outputs": [],
   "source": [
    "num_of_fp = sum_enemy_gps_fp()\n",
    "if num_of_fp > 5:\n",
    "    print(\"That's an enemy base, get the missiles ready!\")\n",
    "\n",
    "num_of_tanks = sum_enemy_tanks_on_border()\n",
    "if num_of_tanks > 20:\n",
    "    print(\"They are planning something, gotta check it out!\")"
   ]
  },
  {
   "cell_type": "markdown",
   "metadata": {},
   "source": [
    "Now let's take the enemy base detection mission and make sure we mark \"innocent\" places as well"
   ]
  },
  {
   "cell_type": "code",
   "execution_count": 3,
   "metadata": {},
   "outputs": [
    {
     "name": "stdout",
     "output_type": "stream",
     "text": [
      "That's just a nice place to have a picnic\n"
     ]
    }
   ],
   "source": [
    "num_of_fp = sum_enemy_gps_fp()\n",
    "if num_of_fp > 5:\n",
    "    print(\"That's an enemy base, get the missiles ready!\")\n",
    "if num_of_fp <= 5:\n",
    "    print(\"That's just a nice place to have a picnic\")"
   ]
  },
  {
   "cell_type": "markdown",
   "metadata": {},
   "source": [
    "### Else\n",
    "How could we make the code more efficient?"
   ]
  },
  {
   "cell_type": "markdown",
   "metadata": {},
   "source": [
    "We asked two questions:\n",
    "1. Does the place have more than 5 footprints?\n",
    "2. Does the place have less or equal to 5 footprints?\n",
    "\n",
    "But after asking the first one we know the answer to the second one!"
   ]
  },
  {
   "cell_type": "code",
   "execution_count": null,
   "metadata": {},
   "outputs": [],
   "source": [
    "num_of_fp = sum_enemy_gps_fp()\n",
    "if num_of_fp > 5:\n",
    "    print(\"That's an enemy base, get the missiles ready!\")\n",
    "else:\n",
    "    print(\"That's just a nice place to have a picnic\")"
   ]
  }
 ],
 "metadata": {
  "kernelspec": {
   "display_name": "venv",
   "language": "python",
   "name": "python3"
  },
  "language_info": {
   "codemirror_mode": {
    "name": "ipython",
    "version": 3
   },
   "file_extension": ".py",
   "mimetype": "text/x-python",
   "name": "python",
   "nbconvert_exporter": "python",
   "pygments_lexer": "ipython3",
   "version": "3.9.6"
  }
 },
 "nbformat": 4,
 "nbformat_minor": 2
}
