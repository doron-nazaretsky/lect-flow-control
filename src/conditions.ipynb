{
 "cells": [
  {
   "cell_type": "markdown",
   "metadata": {},
   "source": [
    "# Control Flow - Conditions"
   ]
  },
  {
   "cell_type": "markdown",
   "metadata": {},
   "source": [
    "## Learning"
   ]
  },
  {
   "cell_type": "markdown",
   "metadata": {},
   "source": [
    "### IF\n",
    "Write a code that categorizes the age of a user to two groups\n",
    "1. First group - under and equals to 50\n",
    "2. Second group - above 50\n"
   ]
  },
  {
   "cell_type": "code",
   "execution_count": null,
   "metadata": {},
   "outputs": [],
   "source": [
    "age = int(input(\"What is your age?\"))\n",
    "sentence_beginning = \"Your age is\"\n",
    "if age <= 50:\n",
    "    print(sentence_beginning, \"under or equals to 50\")\n",
    "if age > 50:\n",
    "    print(sentence_beginning, \"above 50\")"
   ]
  },
  {
   "cell_type": "markdown",
   "metadata": {},
   "source": [
    "### Else\n",
    "How could we make the code more efficient?"
   ]
  },
  {
   "cell_type": "markdown",
   "metadata": {},
   "source": [
    "We already know that someone's age is not under or equals to 50, so it must be above 50!"
   ]
  },
  {
   "cell_type": "code",
   "execution_count": null,
   "metadata": {},
   "outputs": [],
   "source": [
    "age = int(input(\"What is your age?\"))\n",
    "sentence_beginning = \"Your age is\"\n",
    "if age <= 50:\n",
    "    print(sentence_beginning, \"under or equals to 50\")\n",
    "else:\n",
    "    print(sentence_beginning, \"above 50\")"
   ]
  },
  {
   "cell_type": "markdown",
   "metadata": {},
   "source": [
    "### Elif\n",
    "Now we want to make our categories more specific, let's divide the age to 3 groups\n"
   ]
  },
  {
   "cell_type": "markdown",
   "metadata": {},
   "source": [
    "#### Add another if statement"
   ]
  },
  {
   "cell_type": "code",
   "execution_count": null,
   "metadata": {},
   "outputs": [],
   "source": [
    "age = int(input(\"What is your age?\"))\n",
    "sentence_beginning = \"Your age is\"\n",
    "if age <= 30:\n",
    "    print(sentence_beginning, \"under or equals to 30\")\n",
    "if age <= 60:\n",
    "    print(sentence_beginning, \"between 30 and 60\")\n",
    "else:\n",
    "    print(sentence_beginning, \"above 60\")"
   ]
  },
  {
   "cell_type": "markdown",
   "metadata": {},
   "source": [
    "mmm... seems there is a problem, what is it?"
   ]
  },
  {
   "cell_type": "markdown",
   "metadata": {},
   "source": [
    "#### Elif for the rescue!"
   ]
  },
  {
   "cell_type": "code",
   "execution_count": null,
   "metadata": {},
   "outputs": [],
   "source": [
    "age = int(input(\"What is your age?\"))\n",
    "sentence_beginning = \"Your age is\"\n",
    "if age <= 30:\n",
    "    print(sentence_beginning, \"under or equals to 30\")\n",
    "elif age <= 60:\n",
    "    print(sentence_beginning, \"between 30 and 60\")\n",
    "else:\n",
    "    print(sentence_beginning, \"above 60\")"
   ]
  },
  {
   "cell_type": "markdown",
   "metadata": {},
   "source": [
    "### Boolean - deep dive"
   ]
  },
  {
   "cell_type": "markdown",
   "metadata": {},
   "source": [
    "#### Regular boolean expressions we know"
   ]
  },
  {
   "cell_type": "code",
   "execution_count": null,
   "metadata": {},
   "outputs": [],
   "source": [
    "print(\"2 > 1\", 2 > 1)\n",
    "print(\"2 < 1\", 2 < 1)\n",
    "print(\"2 == 2\", 2 == 2)\n",
    "print(\"2 == 3\", 2 == 3)"
   ]
  },
  {
   "cell_type": "markdown",
   "metadata": {},
   "source": [
    "#### Boolean on string"
   ]
  },
  {
   "cell_type": "code",
   "execution_count": null,
   "metadata": {},
   "outputs": [],
   "source": [
    "print('\"2\" > \"1\"', \"2\" > \"1\")\n",
    "print('\"2\" < \"1\"', \"2\" < \"1\")\n",
    "print('\"2\" == \"2\"', \"2\" == \"2\")\n",
    "print('\"2\" == \"3\"', \"2\" == \"3\")\n",
    "print('\"a\" < \"b\"', \"a\" < \"b\")\n",
    "print('\"a\" > \"b\"', \"a\" > \"b\")\n",
    "print('\"a\" == \"a\"', \"a\" == \"a\")\n",
    "print('\"a\" == \"b\"', \"a\" == \"b\")"
   ]
  },
  {
   "cell_type": "markdown",
   "metadata": {},
   "source": [
    "#### Boolean between data types\n",
    "** Can be done manually"
   ]
  },
  {
   "cell_type": "code",
   "execution_count": null,
   "metadata": {},
   "outputs": [],
   "source": [
    "# Not working - doesn't have meaning\n",
    "print(\"1\" > 1)"
   ]
  },
  {
   "cell_type": "markdown",
   "metadata": {},
   "source": [
    "#### Boolean variables"
   ]
  },
  {
   "cell_type": "code",
   "execution_count": null,
   "metadata": {},
   "outputs": [],
   "source": [
    "# Boolean values\n",
    "bool_value_true = True\n",
    "bool_value_false = False\n",
    "# Evaluated boolean values\n",
    "evaluated_true = 1 == 1\n",
    "evaluated_false = 1 == 1"
   ]
  },
  {
   "cell_type": "markdown",
   "metadata": {},
   "source": [
    "#### \"Truthy\" and \"Falsy\" values"
   ]
  },
  {
   "cell_type": "code",
   "execution_count": null,
   "metadata": {},
   "outputs": [],
   "source": [
    "# Collection is not empty - True\n",
    "if []:\n",
    "    print(\"Yes\")\n",
    "else:\n",
    "    print(\"No\")\n",
    "\n",
    "# if [1]:\n",
    "#     print(\"Yes\")\n",
    "# else:\n",
    "#     print(\"No\")\n",
    "\n",
    "# Works on sets, tuples, dicts, strings and more\n"
   ]
  },
  {
   "cell_type": "code",
   "execution_count": null,
   "metadata": {},
   "outputs": [],
   "source": [
    "# Non zero number - true\n",
    "if 1:\n",
    "    print(\"Yes\")\n",
    "else:\n",
    "    print(\"No\")\n",
    "\n",
    "if -1:\n",
    "    print(\"Yes\")\n",
    "else:\n",
    "    print(\"No\")\n",
    "\n",
    "if 0:\n",
    "    print(\"Yes\")\n",
    "else:\n",
    "    print(\"No\")"
   ]
  },
  {
   "cell_type": "markdown",
   "metadata": {},
   "source": [
    "#### Advanced - What happens in the background?\n",
    "**Magic!**"
   ]
  },
  {
   "cell_type": "markdown",
   "metadata": {},
   "source": [
    "The `bool()` function"
   ]
  },
  {
   "cell_type": "code",
   "execution_count": null,
   "metadata": {},
   "outputs": [],
   "source": [
    "# bool(1)\n",
    "# bool(0)\n",
    "# bool(\"\")\n",
    "# bool(\"1\")"
   ]
  },
  {
   "cell_type": "markdown",
   "metadata": {},
   "source": [
    "**From the docs:**\n",
    "\n",
    "Any object can be tested for truth value, for use in an if condition or as operand of the Boolean operations below.\n",
    "\n",
    "By default, an object is considered true unless its class defines either a `__bool__()` method that returns False or a `__len__()` method that returns zero, when called with the object."
   ]
  },
  {
   "cell_type": "code",
   "execution_count": null,
   "metadata": {},
   "outputs": [],
   "source": [
    "# Numbers have __bool__()\n",
    "# dir(1)\n",
    "\n",
    "# Collections have __len__()\n",
    "# dir([]) "
   ]
  },
  {
   "cell_type": "markdown",
   "metadata": {},
   "source": [
    "## Exercise"
   ]
  },
  {
   "cell_type": "markdown",
   "metadata": {},
   "source": [
    "### Print the largest number from a list of three numbers.\n",
    "Think of an algorithm before you start coding"
   ]
  },
  {
   "cell_type": "markdown",
   "metadata": {},
   "source": [
    "#### Your code"
   ]
  },
  {
   "cell_type": "code",
   "execution_count": null,
   "metadata": {},
   "outputs": [],
   "source": [
    "numbers = [2, 123, 63]\n"
   ]
  },
  {
   "cell_type": "markdown",
   "metadata": {},
   "source": [
    "#### Solution"
   ]
  },
  {
   "cell_type": "code",
   "execution_count": null,
   "metadata": {
    "tags": []
   },
   "outputs": [],
   "source": [
    "# Initializing\n",
    "largest = numbers[0]\n",
    "# Update\n",
    "if numbers[1] > largest:\n",
    "    largest = numbers[1]\n",
    "if numbers[2] > largest:\n",
    "    largest = numbers[2]\n",
    "print(largest)"
   ]
  },
  {
   "cell_type": "markdown",
   "metadata": {},
   "source": [
    "### Divisible numbers\n",
    "Choose a number and assign it to a variable called n.\n",
    "\n",
    "Write a code to check whether n is divisible by 2, 3 and 5 (all of them)."
   ]
  },
  {
   "cell_type": "markdown",
   "metadata": {},
   "source": [
    "#### Your code"
   ]
  },
  {
   "cell_type": "code",
   "execution_count": null,
   "metadata": {},
   "outputs": [],
   "source": [
    "n = int(input(\"Choose a number\"))"
   ]
  },
  {
   "cell_type": "markdown",
   "metadata": {},
   "source": [
    "#### Solution"
   ]
  },
  {
   "cell_type": "code",
   "execution_count": null,
   "metadata": {},
   "outputs": [],
   "source": [
    "# Using logical and relationships\n",
    "if n % 2 == 0 and n % 3 == 0 and n % 5 == 0:\n",
    "    print(\"It is divisible by 2, 3 and 5\")"
   ]
  },
  {
   "cell_type": "markdown",
   "metadata": {},
   "source": [
    "#### Check which conditions was failed and which passed"
   ]
  },
  {
   "cell_type": "markdown",
   "metadata": {},
   "source": [
    "#### Your code"
   ]
  },
  {
   "cell_type": "code",
   "execution_count": null,
   "metadata": {},
   "outputs": [],
   "source": [
    "n = int(input(\"Choose a number\"))"
   ]
  },
  {
   "cell_type": "markdown",
   "metadata": {},
   "source": [
    "#### Solution"
   ]
  },
  {
   "cell_type": "code",
   "execution_count": null,
   "metadata": {},
   "outputs": [],
   "source": [
    "# Divide the solution to small pieces each doing an individual task - always a good attitude in programming\n",
    "if n % 2 == 0:\n",
    "    print(\"It is divisible by 2\")\n",
    "else:\n",
    "    print(\"It is not divisible by 2\")\n",
    "if n % 3 == 0:\n",
    "    print(\"It is divisible by 3\")\n",
    "else:\n",
    "    print(\"It is not divisible by 3\")\n",
    "if n % 5 == 0:\n",
    "    print(\"It is divisible by 5\")\n",
    "else:\n",
    "    print(\"It is divisible by 5\")"
   ]
  }
 ],
 "metadata": {
  "kernelspec": {
   "display_name": "venv",
   "language": "python",
   "name": "python3"
  },
  "language_info": {
   "codemirror_mode": {
    "name": "ipython",
    "version": 3
   },
   "file_extension": ".py",
   "mimetype": "text/x-python",
   "name": "python",
   "nbconvert_exporter": "python",
   "pygments_lexer": "ipython3",
   "version": "3.9.6"
  }
 },
 "nbformat": 4,
 "nbformat_minor": 2
}
