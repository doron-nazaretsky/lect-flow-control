{
 "cells": [
  {
   "cell_type": "markdown",
   "metadata": {},
   "source": [
    "# Flow Control - Conditions"
   ]
  },
  {
   "cell_type": "markdown",
   "metadata": {},
   "source": [
    "## Learning"
   ]
  },
  {
   "cell_type": "markdown",
   "metadata": {},
   "source": [
    "To understand better our material, let's imagine we have more to life than software and we decided to go out today"
   ]
  },
  {
   "cell_type": "markdown",
   "metadata": {},
   "source": [
    "### IF"
   ]
  },
  {
   "cell_type": "markdown",
   "metadata": {},
   "source": [
    "#### Single IF\n",
    "We have to go out only after work, so it must be after 18:00 \\\n",
    "Let's write a code that decides wether it's time to go out"
   ]
  },
  {
   "cell_type": "code",
   "execution_count": null,
   "metadata": {},
   "outputs": [],
   "source": [
    "current_hour = int(input(\"Doron, what time is it?\"))\n",
    "if current_hour > 18:\n",
    "    print(\"Finally! let's go out!\")"
   ]
  },
  {
   "cell_type": "markdown",
   "metadata": {},
   "source": [
    "#### Multiple IFs\n",
    "Also, if it's cold (less than 25 degrees) we got to put on a coat"
   ]
  },
  {
   "cell_type": "code",
   "execution_count": null,
   "metadata": {},
   "outputs": [],
   "source": [
    "current_hour = int(input(\"Doron, what time is it?\"))\n",
    "degrees = int(input(\"How much degrees is it?\"))\n",
    "\n",
    "if current_hour > 18:\n",
    "    print(\"Finally! let's go out!\")\n",
    "\n",
    "if degrees < 25:\n",
    "    print(\"Let's put on a coat\")"
   ]
  },
  {
   "cell_type": "markdown",
   "metadata": {},
   "source": [
    "Now let's take the first exercise and add a branch for \"still at work\""
   ]
  },
  {
   "cell_type": "code",
   "execution_count": null,
   "metadata": {},
   "outputs": [],
   "source": [
    "current_hour = int(input(\"Doron, what time is it?\"))\n",
    "if current_hour > 18:\n",
    "    print(\"Finally! let's go out!\")\n",
    "if current_hour <= 18:\n",
    "    print(\"Gotta work -_-\")"
   ]
  },
  {
   "cell_type": "markdown",
   "metadata": {},
   "source": [
    "### Else\n",
    "How could we make the code more efficient?"
   ]
  },
  {
   "cell_type": "markdown",
   "metadata": {},
   "source": [
    "We asked two questions:\n",
    "1. Is it before 18 or exactly 18?\n",
    "2. Is it after 18?\n",
    "\n",
    "But after asking the first one we know the answer to the second one!"
   ]
  },
  {
   "cell_type": "code",
   "execution_count": null,
   "metadata": {},
   "outputs": [],
   "source": [
    "current_hour = int(input(\"Doron, what time is it?\"))\n",
    "if current_hour <= 18:\n",
    "    print(\"Gotta work, can't go out...\")\n",
    "else:\n",
    "    print(\"Finally! let's go out!\")"
   ]
  },
  {
   "cell_type": "markdown",
   "metadata": {},
   "source": [
    "How about dinner? it's between 20-21"
   ]
  },
  {
   "cell_type": "code",
   "execution_count": null,
   "metadata": {},
   "outputs": [],
   "source": [
    "current_hour = int(input(\"Doron, what time is it?\"))\n",
    "if current_hour <= 18:\n",
    "    print(\"Gotta work, can't go out...\")\n",
    "if current_hour > 18 and current_hour <= 20:\n",
    "    print(\"Gotta be at this lecture, I promised...\")\n",
    "else:\n",
    "    print(\"Finally! let's go out!\")"
   ]
  },
  {
   "cell_type": "markdown",
   "metadata": {},
   "source": [
    "### Nested Branches\n"
   ]
  },
  {
   "cell_type": "markdown",
   "metadata": {},
   "source": [
    "Now let's add the coat stuff and try to merge the outputs"
   ]
  },
  {
   "cell_type": "code",
   "execution_count": null,
   "metadata": {},
   "outputs": [],
   "source": [
    "current_hour = int(input(\"Doron, what time is it?\"))\n",
    "degrees = int(input(\"How much degrees is it?\"))\n",
    "\n",
    "if degrees < 25 and current_hour <= 18:\n",
    "    print(\"Gotta work with a coat\")\n",
    "if degrees > 25 and current_hour <= 18:\n",
    "    print(\"Gotta work without a coat\")\n",
    "if degrees < 25 and current_hour > 18:\n",
    "    print(\"Can go out with a coat\")\n",
    "if degrees > 25 and current_hour > 18:\n",
    "    print(\"Can go out without a coat\")"
   ]
  },
  {
   "cell_type": "markdown",
   "metadata": {},
   "source": [
    "Starting to look a bit messy isn't it? \\\n",
    "We should think about all the possible combinations of the conditions (2^n) \\\n",
    "Another problem is that we are asking the 2 questions 4 times each, so 8 questions in total - not efficient! \\\n",
    "Last time it happened we solved it by going \"in depth\" instead of \"flat\" approach"
   ]
  },
  {
   "cell_type": "markdown",
   "metadata": {},
   "source": [
    "#### Nested IF"
   ]
  },
  {
   "cell_type": "markdown",
   "metadata": {},
   "source": [
    "Three questions! Looks much better. \\\n",
    "Interesting challenge: make it 2 questions, clue - work with variables."
   ]
  },
  {
   "cell_type": "code",
   "execution_count": null,
   "metadata": {},
   "outputs": [],
   "source": [
    "current_hour = int(input(\"Doron, what time is it?\"))\n",
    "degrees = int(input(\"How much degrees is it?\"))\n",
    "\n",
    "if current_hour <= 18:\n",
    "    if degrees < 25:\n",
    "        print(\"Gotta work with a coat\")\n",
    "    else:\n",
    "        print(\"Gotta work without a coat\")\n",
    "else:\n",
    "    if degrees < 25:\n",
    "        print(\"Can go out with a coat\")\n",
    "    else:\n",
    "        print(\"Can go out without a coat\")"
   ]
  },
  {
   "cell_type": "markdown",
   "metadata": {},
   "source": [
    "#### ELIF"
   ]
  },
  {
   "cell_type": "markdown",
   "metadata": {},
   "source": [
    "Wait, there is this Python lecture about flow control at 19, how can we add it?"
   ]
  },
  {
   "cell_type": "code",
   "execution_count": null,
   "metadata": {},
   "outputs": [],
   "source": [
    "current_hour = int(input(\"Doron, what time is it?\"))\n",
    "if current_hour <= 18:\n",
    "    print(\"Gotta work, can't go out...\")\n",
    "else:\n",
    "    if current_hour <= 20:\n",
    "        print(\"Gotta be at this lecture, I promised...\")\n",
    "    else:\n",
    "        print(\"Finally! let's go out!\")"
   ]
  },
  {
   "cell_type": "markdown",
   "metadata": {},
   "source": [
    "We also have this birthday of our cousin at 20"
   ]
  },
  {
   "cell_type": "code",
   "execution_count": null,
   "metadata": {},
   "outputs": [],
   "source": [
    "current_hour = int(input(\"Doron, what time is it?\"))\n",
    "if current_hour <= 18:\n",
    "    print(\"Gotta work, can't go out...\")\n",
    "else:\n",
    "    if current_hour <= 20:\n",
    "        print(\"Gotta be at this lecture, I promised...\")\n",
    "    else:\n",
    "        if current_hour <= 22:\n",
    "            print(\"Cousin birthday\")\n",
    "        else:\n",
    "            print(\"Finally! let's go out!\")"
   ]
  },
  {
   "cell_type": "markdown",
   "metadata": {},
   "source": [
    "#### ELIF - Flatten the depth in code"
   ]
  },
  {
   "cell_type": "markdown",
   "metadata": {},
   "source": [
    "It looks not bad, but it's a bit messy, think about having this pattern for 20 conditions! \\\n",
    "Since in Python when we go in depth we have to start the next line with a couple of spaces forward, we could reach very long spaces. \\\n",
    "To avoid that, we can use `ELIF`"
   ]
  },
  {
   "cell_type": "code",
   "execution_count": null,
   "metadata": {},
   "outputs": [],
   "source": [
    "current_hour = int(input(\"Doron, what time is it?\"))\n",
    "if current_hour <= 18:\n",
    "    print(\"Gotta work, can't go out...\")\n",
    "elif current_hour <= 20:\n",
    "    print(\"Gotta be at this lecture, I promised...\")\n",
    "elif current_hour <= 22:\n",
    "    print(\"Cousin birthday\")\n",
    "else:\n",
    "    print(\"Finally! let's go out!\")"
   ]
  },
  {
   "cell_type": "markdown",
   "metadata": {},
   "source": [
    "We use ELIF mostly at situations when we do \"elimination\" strategy, which means we go mostly to the else branch. \\\n",
    "In other situations it's better to stick with regular nested if, because it helps to understand better the flow."
   ]
  },
  {
   "cell_type": "markdown",
   "metadata": {},
   "source": [
    "### Boolean - deep dive"
   ]
  },
  {
   "cell_type": "markdown",
   "metadata": {},
   "source": [
    "#### Regular boolean expressions we know"
   ]
  },
  {
   "cell_type": "code",
   "execution_count": null,
   "metadata": {},
   "outputs": [],
   "source": [
    "print(\"2 > 1\", 2 > 1)\n",
    "print(\"2 < 1\", 2 < 1)\n",
    "print(\"2 == 2\", 2 == 2)\n",
    "print(\"2 == 3\", 2 == 3)"
   ]
  },
  {
   "cell_type": "markdown",
   "metadata": {},
   "source": [
    "#### Boolean on string"
   ]
  },
  {
   "cell_type": "code",
   "execution_count": null,
   "metadata": {},
   "outputs": [],
   "source": [
    "print('\"2\" > \"1\"', \"2\" > \"1\")\n",
    "print('\"2\" < \"1\"', \"2\" < \"1\")\n",
    "print('\"2\" == \"2\"', \"2\" == \"2\")\n",
    "print('\"2\" == \"3\"', \"2\" == \"3\")\n",
    "print('\"a\" < \"b\"', \"a\" < \"b\")\n",
    "print('\"a\" > \"b\"', \"a\" > \"b\")\n",
    "print('\"a\" == \"a\"', \"a\" == \"a\")\n",
    "print('\"a\" == \"b\"', \"a\" == \"b\")"
   ]
  },
  {
   "cell_type": "markdown",
   "metadata": {},
   "source": [
    "#### Boolean between data types\n",
    "** Can be done manually"
   ]
  },
  {
   "cell_type": "code",
   "execution_count": null,
   "metadata": {},
   "outputs": [],
   "source": [
    "# Not working - doesn't have meaning\n",
    "print(\"1\" > 1)"
   ]
  },
  {
   "cell_type": "markdown",
   "metadata": {},
   "source": [
    "#### Boolean variables"
   ]
  },
  {
   "cell_type": "code",
   "execution_count": null,
   "metadata": {},
   "outputs": [],
   "source": [
    "# Boolean values\n",
    "bool_value_true = True\n",
    "bool_value_false = False\n",
    "# Evaluated boolean values\n",
    "evaluated_true = 1 == 1\n",
    "evaluated_false = 1 == 1"
   ]
  },
  {
   "cell_type": "markdown",
   "metadata": {},
   "source": [
    "#### \"Truthy\" and \"Falsy\" values"
   ]
  },
  {
   "cell_type": "code",
   "execution_count": null,
   "metadata": {},
   "outputs": [],
   "source": [
    "# Collection is not empty - True\n",
    "if []:\n",
    "    print(\"Yes\")\n",
    "else:\n",
    "    print(\"No\")\n",
    "\n",
    "# if [1]:\n",
    "#     print(\"Yes\")\n",
    "# else:\n",
    "#     print(\"No\")\n",
    "\n",
    "# Works on sets, tuples, dicts, strings and more\n"
   ]
  },
  {
   "cell_type": "code",
   "execution_count": null,
   "metadata": {},
   "outputs": [],
   "source": [
    "# Non zero number - true\n",
    "if 1:\n",
    "    print(\"Yes\")\n",
    "else:\n",
    "    print(\"No\")\n",
    "\n",
    "if -1:\n",
    "    print(\"Yes\")\n",
    "else:\n",
    "    print(\"No\")\n",
    "\n",
    "if 0:\n",
    "    print(\"Yes\")\n",
    "else:\n",
    "    print(\"No\")"
   ]
  },
  {
   "cell_type": "markdown",
   "metadata": {},
   "source": [
    "## Exercise"
   ]
  },
  {
   "cell_type": "markdown",
   "metadata": {},
   "source": [
    "### Print the largest number from a list of three numbers.\n",
    "Think of an algorithm before you start coding"
   ]
  },
  {
   "cell_type": "markdown",
   "metadata": {},
   "source": [
    "#### Your code"
   ]
  },
  {
   "cell_type": "code",
   "execution_count": null,
   "metadata": {},
   "outputs": [],
   "source": [
    "numbers = [2, 123, 63]\n"
   ]
  },
  {
   "cell_type": "markdown",
   "metadata": {},
   "source": [
    "#### Solution"
   ]
  },
  {
   "cell_type": "code",
   "execution_count": null,
   "metadata": {
    "tags": []
   },
   "outputs": [],
   "source": [
    "# Initializing\n",
    "largest = numbers[0]\n",
    "# Update\n",
    "if numbers[1] > largest:\n",
    "    largest = numbers[1]\n",
    "if numbers[2] > largest:\n",
    "    largest = numbers[2]\n",
    "print(largest)"
   ]
  },
  {
   "cell_type": "markdown",
   "metadata": {},
   "source": [
    "### Divisible numbers\n",
    "Choose a number and assign it to a variable called n. \\\n",
    "Write a code to check whether n is divisible by 2, 3 and 5 (all of them)."
   ]
  },
  {
   "cell_type": "markdown",
   "metadata": {},
   "source": [
    "#### Your code"
   ]
  },
  {
   "cell_type": "code",
   "execution_count": null,
   "metadata": {},
   "outputs": [],
   "source": [
    "n = int(input(\"Choose a number\"))"
   ]
  },
  {
   "cell_type": "markdown",
   "metadata": {},
   "source": [
    "#### Solution"
   ]
  },
  {
   "cell_type": "code",
   "execution_count": null,
   "metadata": {},
   "outputs": [],
   "source": [
    "# Using logical \"and\" relationships\n",
    "if n % 2 == 0 and n % 3 == 0 and n % 5 == 0:\n",
    "    print(\"It is divisible by 2, 3 and 5\")"
   ]
  },
  {
   "cell_type": "markdown",
   "metadata": {},
   "source": [
    "#### Your code"
   ]
  },
  {
   "cell_type": "code",
   "execution_count": null,
   "metadata": {},
   "outputs": [],
   "source": [
    "n = int(input(\"Choose a number\"))"
   ]
  },
  {
   "cell_type": "markdown",
   "metadata": {},
   "source": [
    "#### Solution"
   ]
  },
  {
   "cell_type": "code",
   "execution_count": null,
   "metadata": {},
   "outputs": [],
   "source": [
    "# Divide the solution to small pieces each doing an individual task - always a good attitude in programming\n",
    "if n % 2 == 0:\n",
    "    print(\"It is divisible by 2\")\n",
    "else:\n",
    "    print(\"It is not divisible by 2\")\n",
    "if n % 3 == 0:\n",
    "    print(\"It is divisible by 3\")\n",
    "else:\n",
    "    print(\"It is not divisible by 3\")\n",
    "if n % 5 == 0:\n",
    "    print(\"It is divisible by 5\")\n",
    "else:\n",
    "    print(\"It is divisible by 5\")"
   ]
  },
  {
   "cell_type": "markdown",
   "metadata": {},
   "source": [
    "## Advanced - What happens in the background?\n",
    "**Magic!**"
   ]
  },
  {
   "cell_type": "markdown",
   "metadata": {},
   "source": [
    "The `bool()` function"
   ]
  },
  {
   "cell_type": "code",
   "execution_count": null,
   "metadata": {},
   "outputs": [],
   "source": [
    "# bool(1)\n",
    "# bool(0)\n",
    "# bool(\"\")\n",
    "# bool(\"1\")"
   ]
  },
  {
   "cell_type": "markdown",
   "metadata": {},
   "source": [
    "**From the docs:**\n",
    "\n",
    "Any object can be tested for truth value, for use in an if condition or as operand of the Boolean operations below. \\\n",
    "By default, an object is considered true unless its class defines either a `__bool__()` method that returns False or a `__len__()` method that returns zero, when called with the object."
   ]
  },
  {
   "cell_type": "code",
   "execution_count": null,
   "metadata": {},
   "outputs": [],
   "source": [
    "# Numbers have __bool__()\n",
    "dir(1)"
   ]
  },
  {
   "cell_type": "code",
   "execution_count": null,
   "metadata": {},
   "outputs": [],
   "source": [
    "# Collections have __len__()\n",
    "dir([])"
   ]
  }
 ],
 "metadata": {
  "kernelspec": {
   "display_name": "venv",
   "language": "python",
   "name": "python3"
  },
  "language_info": {
   "codemirror_mode": {
    "name": "ipython",
    "version": 3
   },
   "file_extension": ".py",
   "mimetype": "text/x-python",
   "name": "python",
   "nbconvert_exporter": "python",
   "pygments_lexer": "ipython3",
   "version": "3.9.6"
  }
 },
 "nbformat": 4,
 "nbformat_minor": 2
}
