{
 "cells": [
  {
   "cell_type": "markdown",
   "metadata": {},
   "source": [
    "# Loops"
   ]
  },
  {
   "cell_type": "markdown",
   "metadata": {},
   "source": [
    "## Learning"
   ]
  },
  {
   "cell_type": "markdown",
   "metadata": {},
   "source": [
    "### Why do we need loops?\n",
    "Now we want to plan our vacation which has 5 days, how could we do it? \\\n",
    "Of course we could copy paste the code 5 times and write a slightly different print each time\n",
    "\n",
    "But it's a lot of work..."
   ]
  },
  {
   "cell_type": "markdown",
   "metadata": {},
   "source": [
    "### For loops\n",
    "Use it when the amount of iteration is easily determined"
   ]
  },
  {
   "cell_type": "markdown",
   "metadata": {},
   "source": [
    "The \"Classic\" loops with range"
   ]
  },
  {
   "cell_type": "code",
   "execution_count": null,
   "metadata": {},
   "outputs": [],
   "source": [
    "# Using range to generate a sequence\n",
    "for i in range(10):\n",
    "    print(i)"
   ]
  },
  {
   "cell_type": "code",
   "execution_count": null,
   "metadata": {},
   "outputs": [],
   "source": [
    "# Combining range with a list len to iterate over a list\n",
    "degrees_on_vacation = [20, 30, 15, 32, 35, 25]\n",
    "for i in range(len(degrees_on_vacation)):\n",
    "    today_degrees = degrees_on_vacation[i]\n",
    "    if today_degrees > 28:\n",
    "        print(\"We go to the beach\")\n",
    "    else:\n",
    "        print(\"Let's Hummus\")"
   ]
  },
  {
   "cell_type": "markdown",
   "metadata": {},
   "source": [
    "The **Pythonic** loops"
   ]
  },
  {
   "cell_type": "code",
   "execution_count": null,
   "metadata": {},
   "outputs": [],
   "source": [
    "# Iterate over the elements of an iterable (will be discussed late) immediately\n",
    "degrees_on_vacation = [20, 30, 15, 32, 35, 25]\n",
    "for today_degrees in degrees_on_vacation:\n",
    "    if today_degrees > 28:\n",
    "        print(\"We go to the beach\")\n",
    "    else:\n",
    "        print(\"Let's Hummus\")"
   ]
  },
  {
   "cell_type": "markdown",
   "metadata": {},
   "source": [
    "What to use and when?\n",
    "\n",
    "If the **index** needed \\\n",
    "_Use Classic_ \\\n",
    "else: \\\n",
    "_Use Pythonic_"
   ]
  },
  {
   "cell_type": "markdown",
   "metadata": {},
   "source": [
    "### Solving problems one step at a time with a loop"
   ]
  },
  {
   "cell_type": "markdown",
   "metadata": {},
   "source": [
    "As we already saw, in programming a very common technique is to solve a bigger problem by dividing it small problems and solving each individually.\n",
    "\n",
    "The process will be frequently as follows:\n",
    "1. Initialize a variable that will store the already computed solutions\n",
    "2. Run a loop with the number of iterations as the number of the small problems\n",
    "3. Solve at each iteration a small problem and add the solutions to the previously mentioned variable"
   ]
  },
  {
   "cell_type": "markdown",
   "metadata": {},
   "source": [
    "**Example**\n",
    "\n",
    "How much time we gonna Hummus on this vacation?"
   ]
  },
  {
   "cell_type": "code",
   "execution_count": null,
   "metadata": {},
   "outputs": [],
   "source": [
    "# init\n",
    "hummus_eaten = 0\n",
    "\n",
    "# Iteration\n",
    "degrees_on_vacation = [20, 30, 15, 32, 35, 25]\n",
    "for today_degrees in degrees_on_vacation:\n",
    "    if today_degrees <= 28:\n",
    "        hummus_eaten += 1 # Same as hummus_eaten = hummus_eaten + 1\n",
    "\n",
    "print(hummus_eaten)"
   ]
  },
  {
   "cell_type": "markdown",
   "metadata": {},
   "source": [
    "### Dicts - More ways to iterate"
   ]
  },
  {
   "cell_type": "markdown",
   "metadata": {},
   "source": [
    "#### Using `items()`\n",
    "Iterate over key, value tuples"
   ]
  },
  {
   "cell_type": "code",
   "execution_count": null,
   "metadata": {},
   "outputs": [],
   "source": [
    "musicians = {\n",
    "    \"2pac-zal\": \"rap\",\n",
    "    \"ice-cube\": \"rap\",\n",
    "    \"skazi\": \"electronic\",\n",
    "    \"omer-adam\": \"amami\",\n",
    "}\n",
    "for musician_name, music_genre in musicians.items():\n",
    "    print(musician_name, \"is making\", music_genre, \"music\")"
   ]
  },
  {
   "cell_type": "markdown",
   "metadata": {},
   "source": [
    "#### Using `keys()`\n",
    "Iterating over the keys"
   ]
  },
  {
   "cell_type": "code",
   "execution_count": null,
   "metadata": {},
   "outputs": [],
   "source": [
    "musicians = {\n",
    "    \"2pac-zal\": \"rap\",\n",
    "    \"ice-cube\": \"rap\",\n",
    "    \"skazi\": \"electronic\",\n",
    "    \"omer-adam\": \"amami\",\n",
    "}\n",
    "for musician_name in musicians.keys():\n",
    "    print(\"I love listening to\", musician_name)"
   ]
  },
  {
   "cell_type": "markdown",
   "metadata": {},
   "source": [
    "### Iterables - deep dive"
   ]
  },
  {
   "cell_type": "markdown",
   "metadata": {},
   "source": [
    "Iterable - Iteration and Able. Which means that we are able to iterate over it and the for loop is taking advantage of that. \\\n",
    "Most of the collections we know are iterables"
   ]
  },
  {
   "cell_type": "markdown",
   "metadata": {},
   "source": [
    "#### Ordered iterables"
   ]
  },
  {
   "cell_type": "code",
   "execution_count": null,
   "metadata": {},
   "outputs": [],
   "source": [
    "# Lists - already shown\n",
    "degrees_on_vacation = [20, 30, 15, 32, 35, 25]\n",
    "for today_degrees in degrees_on_vacation:\n",
    "    print(\"It's\", today_degrees, \"degrees\")"
   ]
  },
  {
   "cell_type": "code",
   "execution_count": null,
   "metadata": {},
   "outputs": [],
   "source": [
    "# Strings\n",
    "for ch in \"Yalla Hummus\":\n",
    "    print(ch)"
   ]
  },
  {
   "cell_type": "markdown",
   "metadata": {},
   "source": [
    "#### Unordered iterables"
   ]
  },
  {
   "cell_type": "code",
   "execution_count": null,
   "metadata": {},
   "outputs": [],
   "source": [
    "# Sets\n",
    "my_set = set([\"Python\", \"Python\", \"Python\", \"Everywhere\", \"How\", \"Much\", \"More\", \"Can\", \"We\", \"Take\"])\n",
    "\n",
    "for el in my_set:\n",
    "    print(el)"
   ]
  },
  {
   "cell_type": "markdown",
   "metadata": {},
   "source": [
    "#### Advanced - How does it work?\n",
    "\n",
    "Of course... **Magic!**"
   ]
  },
  {
   "cell_type": "markdown",
   "metadata": {},
   "source": [
    "Similar to `bool()` we have a function `iter()` \\\n",
    "We can use it to understand if something is iterable or not. \\\n",
    "In fact, the for loop is using the same function!"
   ]
  },
  {
   "cell_type": "code",
   "execution_count": null,
   "metadata": {},
   "outputs": [],
   "source": [
    "# Lists have a proper iter value\n",
    "iter([])"
   ]
  },
  {
   "cell_type": "code",
   "execution_count": null,
   "metadata": {},
   "outputs": [],
   "source": [
    "# Numbers don't\n",
    "iter(1)"
   ]
  },
  {
   "cell_type": "markdown",
   "metadata": {},
   "source": [
    "Iter - behind the scenes\n",
    "\n",
    "**From the docs:**\n",
    "An object capable of returning its members one at a time. \\\n",
    "Examples of iterables include all sequence types (such as list, str, and tuple) and some non-sequence types like dict, file objects, and objects of any classes you define with an `__iter__()` method or with a `__getitem__()` method that implements sequence semantics.\n",
    "\n",
    "There is a bit more to uncover on this subject, for instance what does `__iter__()` actually should return, it's a bit advanced so we won't cover it here but I encourage you to learn about it! \\\n",
    "Clue - for those of you who came from other OOP languages it's actually an iterator design pattern implemented with an Interface. \n"
   ]
  },
  {
   "cell_type": "code",
   "execution_count": null,
   "metadata": {},
   "outputs": [],
   "source": [
    "# Lists have __iter__()\n",
    "dir([])"
   ]
  },
  {
   "cell_type": "code",
   "execution_count": null,
   "metadata": {},
   "outputs": [],
   "source": [
    "# Dicts have __iter__()\n",
    "dir({1: 2})"
   ]
  },
  {
   "cell_type": "code",
   "execution_count": null,
   "metadata": {},
   "outputs": [],
   "source": [
    "# Numbers don't\n",
    "dir(1)"
   ]
  },
  {
   "cell_type": "markdown",
   "metadata": {},
   "source": [
    "### While loops\n",
    "Use it when you don't know the amount of iterations needed"
   ]
  },
  {
   "cell_type": "markdown",
   "metadata": {},
   "source": [
    "\n",
    "- The “testing” of the iteration condition happens before any iteration is executed. That includes the first iteration.\n",
    "- Make sure the loop is changing the iteration condition, if not - it might run indefinitely."
   ]
  },
  {
   "cell_type": "markdown",
   "metadata": {},
   "source": [
    "#### Basic usage - iterate over a sequence\n",
    "Don't really require while loop, it could be done easily and cleanly with a for loop"
   ]
  },
  {
   "cell_type": "code",
   "execution_count": null,
   "metadata": {},
   "outputs": [],
   "source": [
    "n = 0\n",
    "while n < 10:\n",
    "    print(n)\n",
    "    n = n + 1"
   ]
  },
  {
   "cell_type": "markdown",
   "metadata": {},
   "source": [
    "#### Real Usage - Random"
   ]
  },
  {
   "cell_type": "code",
   "execution_count": null,
   "metadata": {},
   "outputs": [],
   "source": [
    "# Run it several times and see what happens\n",
    "import random\n",
    "\n",
    "n = 0\n",
    "while n < 5:\n",
    "    print(n)\n",
    "    n = random.randint(0, 10)"
   ]
  },
  {
   "cell_type": "markdown",
   "metadata": {},
   "source": [
    "#### Real Usage - Efficient Iteration\n",
    "Find the largest number that is smaller the 1,000,000 that is dividable by 2, 3, 5, 7 and 11"
   ]
  },
  {
   "cell_type": "code",
   "execution_count": null,
   "metadata": {},
   "outputs": [],
   "source": [
    "found = False\n",
    "n = 10 ** 6\n",
    "while not found:\n",
    "    if n % 2 == 0 and n % 3 == 0 and n % 5 == 0 and n % 7 == 0 and n % 11 == 0:\n",
    "        found = True\n",
    "    n = n - 1\n",
    "print(n)"
   ]
  },
  {
   "cell_type": "markdown",
   "metadata": {},
   "source": [
    "### Changing iterables while iterating over them - Bad Idea!"
   ]
  },
  {
   "cell_type": "markdown",
   "metadata": {},
   "source": [
    "#### Bad Example"
   ]
  },
  {
   "cell_type": "markdown",
   "metadata": {},
   "source": [
    "Instead of just believing, let's see an example\n",
    "\n",
    "Let's say we need to clean our list from odd numbers, a naive approach would be:"
   ]
  },
  {
   "cell_type": "code",
   "execution_count": null,
   "metadata": {},
   "outputs": [],
   "source": [
    "lst = [1,2,3,4,5,6]\n",
    "for i in lst:\n",
    "    if i % 2 == 1:\n",
    "        lst.pop(i)\n",
    "print(lst)"
   ]
  },
  {
   "cell_type": "markdown",
   "metadata": {},
   "source": [
    "Wait... What?! Why? What Happened?\n",
    "\n",
    "Let's debug!"
   ]
  },
  {
   "cell_type": "markdown",
   "metadata": {},
   "source": [
    "#### Even worse example - because it works"
   ]
  },
  {
   "cell_type": "code",
   "execution_count": null,
   "metadata": {},
   "outputs": [],
   "source": [
    "lst = [1,2,3,4,5,6]\n",
    "for i in lst:\n",
    "    if i % 2 == 1:\n",
    "        lst.remove(i)\n",
    "print(lst)"
   ]
  },
  {
   "cell_type": "markdown",
   "metadata": {},
   "source": [
    "#### Ridiculous example"
   ]
  },
  {
   "cell_type": "code",
   "execution_count": null,
   "metadata": {},
   "outputs": [],
   "source": [
    "lst = [1,2,3,5]\n",
    "for i in lst:\n",
    "    print(i)\n",
    "    if lst:\n",
    "        lst = False"
   ]
  },
  {
   "cell_type": "markdown",
   "metadata": {},
   "source": [
    "Why would it even work?"
   ]
  },
  {
   "cell_type": "markdown",
   "metadata": {},
   "source": [
    "The moral of the story is: DON'T DO THAT! \\\n",
    "It's a bad practice and it's hard to understand what really happens \\\n",
    "Remember a code that runs and gives a wrong result is worse that a code that fails - then at least we know there is a problem"
   ]
  },
  {
   "cell_type": "markdown",
   "metadata": {},
   "source": [
    "### List comprehensions"
   ]
  },
  {
   "cell_type": "markdown",
   "metadata": {},
   "source": [
    "Basically - a simple compact way to create a new list (almost every collection in python has a similar syntax) out of an other iterable\n",
    "\n",
    "The combined utilization of lists and for loops is so common, that there is a special syntax for it called list comprehension. This syntax is never mandatory, but it is so simple and clean, that it became a standard for Python code writing, and it is definitely a sign of coding maturity.\n",
    "\n",
    "The syntax is:\n",
    "\n",
    "`lst = [f(x) for x in some_iterable]` - For every element `x` in iterable `some_iterable`, apply the function `f` to `x` and append the result to `lst`\n",
    "\n",
    "`lst = [f(x) for x in some_iterable if cond(x)]` - Same as the previous but appending `x` only if it meets condition `cond` after applying `f`"
   ]
  },
  {
   "cell_type": "markdown",
   "metadata": {},
   "source": [
    "#### Regular for loop vs list comprehensions"
   ]
  },
  {
   "cell_type": "code",
   "execution_count": null,
   "metadata": {},
   "outputs": [],
   "source": [
    "# Regular\n",
    "lst_1 = [1,2,3,4,5,6]\n",
    "lst_2 = []\n",
    "for num in lst_1:\n",
    "    if num > 3:\n",
    "        lst_2.append(num)\n",
    "print(lst_2)"
   ]
  },
  {
   "cell_type": "code",
   "execution_count": null,
   "metadata": {},
   "outputs": [],
   "source": [
    "# Comprehensions\n",
    "lst_1 = [1,2,3,4,5,6]\n",
    "lst_2 = [num for num in lst_1 if num > 3]\n",
    "print(lst_2)"
   ]
  },
  {
   "cell_type": "markdown",
   "metadata": {},
   "source": [
    "#### Any other iterable\n"
   ]
  },
  {
   "cell_type": "code",
   "execution_count": null,
   "metadata": {},
   "outputs": [],
   "source": [
    "string = \"Hello World\"\n",
    "lst = [el for el in string]\n",
    "print(lst)"
   ]
  },
  {
   "cell_type": "code",
   "execution_count": null,
   "metadata": {},
   "outputs": [],
   "source": [
    "some_set = {\"Hello\", \"World\"}\n",
    "lst = [el for el in some_set]\n",
    "print(lst)"
   ]
  },
  {
   "cell_type": "markdown",
   "metadata": {},
   "source": [
    "### Skipping iterations"
   ]
  },
  {
   "cell_type": "markdown",
   "metadata": {},
   "source": [
    "#### Stop only the current iteration - `continue`"
   ]
  },
  {
   "cell_type": "code",
   "execution_count": null,
   "metadata": {},
   "outputs": [],
   "source": [
    "for num in [1,2,3,4,5]:\n",
    "    if num % 2 == 0:\n",
    "        continue\n",
    "    print(num)"
   ]
  },
  {
   "cell_type": "markdown",
   "metadata": {},
   "source": [
    "Common usage "
   ]
  },
  {
   "cell_type": "markdown",
   "metadata": {},
   "source": [
    "#### Stop the loop - `break`"
   ]
  },
  {
   "cell_type": "code",
   "execution_count": null,
   "metadata": {},
   "outputs": [],
   "source": [
    "for num in [1,2,3,4,5]:\n",
    "    if num % 2 == 0:\n",
    "        break\n",
    "    print(num)"
   ]
  }
 ],
 "metadata": {
  "kernelspec": {
   "display_name": "venv",
   "language": "python",
   "name": "python3"
  },
  "language_info": {
   "codemirror_mode": {
    "name": "ipython",
    "version": 3
   },
   "file_extension": ".py",
   "mimetype": "text/x-python",
   "name": "python",
   "nbconvert_exporter": "python",
   "pygments_lexer": "ipython3",
   "version": "3.9.6"
  }
 },
 "nbformat": 4,
 "nbformat_minor": 2
}
